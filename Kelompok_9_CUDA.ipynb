{
  "nbformat": 4,
  "nbformat_minor": 0,
  "metadata": {
    "colab": {
      "provenance": [],
      "authorship_tag": "ABX9TyOGF9HxYg3UUUGYQiijO3Px",
      "include_colab_link": true
    },
    "kernelspec": {
      "name": "python3",
      "display_name": "Python 3"
    },
    "language_info": {
      "name": "python"
    },
    "accelerator": "GPU",
    "gpuClass": "standard"
  },
  "cells": [
    {
      "cell_type": "markdown",
      "metadata": {
        "id": "view-in-github",
        "colab_type": "text"
      },
      "source": [
        "<a href=\"https://colab.research.google.com/github/galihpermana292/smallest-value-cuda/blob/main/Kelompok_9_CUDA.ipynb\" target=\"_parent\"><img src=\"https://colab.research.google.com/assets/colab-badge.svg\" alt=\"Open In Colab\"/></a>"
      ]
    },
    {
      "cell_type": "code",
      "source": [
        "!pip install git+https://github.com/andreinechaev/nvcc4jupyter.git"
      ],
      "metadata": {
        "colab": {
          "base_uri": "https://localhost:8080/"
        },
        "id": "9gqnsZYde866",
        "outputId": "6d665e0e-3fcd-43a7-ee94-b6a1060aeabf"
      },
      "execution_count": 1,
      "outputs": [
        {
          "output_type": "stream",
          "name": "stdout",
          "text": [
            "Looking in indexes: https://pypi.org/simple, https://us-python.pkg.dev/colab-wheels/public/simple/\n",
            "Collecting git+https://github.com/andreinechaev/nvcc4jupyter.git\n",
            "  Cloning https://github.com/andreinechaev/nvcc4jupyter.git to /tmp/pip-req-build-8ztnd3v0\n",
            "  Running command git clone --filter=blob:none --quiet https://github.com/andreinechaev/nvcc4jupyter.git /tmp/pip-req-build-8ztnd3v0\n",
            "  Resolved https://github.com/andreinechaev/nvcc4jupyter.git to commit aac710a35f52bb78ab34d2e52517237941399eff\n",
            "  Preparing metadata (setup.py) ... \u001b[?25l\u001b[?25hdone\n",
            "Building wheels for collected packages: NVCCPlugin\n",
            "  Building wheel for NVCCPlugin (setup.py) ... \u001b[?25l\u001b[?25hdone\n",
            "  Created wheel for NVCCPlugin: filename=NVCCPlugin-0.0.2-py3-none-any.whl size=4305 sha256=863f824a894b11a09eb58be33a8a0e7a5c1073cddaec9b08b46503782b0f25eb\n",
            "  Stored in directory: /tmp/pip-ephem-wheel-cache-r376eks5/wheels/db/c1/1f/a2bb07bbb4a1ce3c43921252aeafaa6205f08637e292496f04\n",
            "Successfully built NVCCPlugin\n",
            "Installing collected packages: NVCCPlugin\n",
            "Successfully installed NVCCPlugin-0.0.2\n"
          ]
        }
      ]
    },
    {
      "cell_type": "code",
      "source": [
        "%load_ext nvcc_plugin"
      ],
      "metadata": {
        "colab": {
          "base_uri": "https://localhost:8080/"
        },
        "id": "fO4bPJqgfGZL",
        "outputId": "8770c223-6c37-4a3b-9f2c-6eb539af5592"
      },
      "execution_count": 2,
      "outputs": [
        {
          "output_type": "stream",
          "name": "stdout",
          "text": [
            "created output directory at /content/src\n",
            "Out bin /content/result.out\n"
          ]
        }
      ]
    },
    {
      "cell_type": "code",
      "execution_count": null,
      "metadata": {
        "id": "YebrsH2Me4Ek"
      },
      "outputs": [],
      "source": [
        "%%cu\n",
        "#include<stdio.h>\n",
        "#include <iostream>\n",
        "#include <cstdio>\n",
        "\n",
        "using namespace std;\n",
        "\n",
        "  // kerne findSmallest yang digunakan untuk mencari nilai terkecil\n",
        "__global__ void findSmallest(int* input, int* sized, int* min_num){\n",
        "  *min_num = *input;\n",
        "  // proses mencari nilai terkecil dengan membandingan value setiap array\n",
        "  for(int i = 1; i < *sized; i++){\n",
        "    // jika menemukan value yang lebih kecil, simpan valuenya di variable min_num\n",
        "    if(*input < *min_num){\n",
        "      *min_num = *input;\n",
        "    }\n",
        "  }\n",
        "}\n",
        "\n",
        "int main( void ) {\n",
        "  // mendapatkan size tipe data integer untuk dimasukkan ke variable size\n",
        "  int size = sizeof( int );\n",
        "\n",
        "  //host\n",
        "  // value array yang mempunyai nilai yang nantinya dicari nilai terkecilnya\n",
        "  int var_arr[] = {11, 22, 33, 44, 55, 66, 77};\n",
        "  // ukuran arraynya\n",
        "  int sizeArr = 7;\n",
        "  // variable menampung nilai terkecilnya\n",
        "  int findMin;\n",
        "\n",
        "  //device\n",
        "  // membuat pointer untuk ketiga variable yang ada di host\n",
        "  int *deviceArr, *deviceSize, *deviceFindMinp;\n",
        "\n",
        "  // alokasi memori pada setiap pointer device menggunakan size of integer\n",
        "  cudaMalloc( (void**)&deviceArr, size );\n",
        "  cudaMalloc( (void**)&deviceSize, size );\n",
        "  cudaMalloc( (void**)&deviceFindMinp, size );\n",
        "\n",
        "  // variable host yang memiliki value, kita copy ke device yaitu value array dan size array\n",
        "  cudaMemcpy( deviceArr, &var_arr, size, cudaMemcpyHostToDevice );\n",
        "  cudaMemcpy( deviceSize, &sizeArr, size, cudaMemcpyHostToDevice );\n",
        "  \n",
        "  // binding function findSmallest dengan thread dan block 1\n",
        "  findSmallest<<< 1, 1 >>>( deviceArr, deviceSize, deviceFindMinp );\n",
        "\n",
        "  // hasilnya kita copy balik ke host dari variable deviceFindMinp ke findMin\n",
        "  cudaMemcpy( &findMin, deviceFindMinp, size, cudaMemcpyDeviceToHost );\n",
        "\n",
        "  // output\n",
        "  cout<< \"nilai terkecil adalah: \" << findMin << endl;\n",
        "\n",
        "  // free alokasi memorinya\n",
        "  cudaFree( deviceArr );\n",
        "  cudaFree( deviceSize );\n",
        "  cudaFree( deviceFindMinp );\n",
        "  return 0;\n",
        "}"
      ]
    },
    {
      "cell_type": "code",
      "source": [],
      "metadata": {
        "id": "II2h-Cswe8BZ"
      },
      "execution_count": null,
      "outputs": []
    }
  ]
}